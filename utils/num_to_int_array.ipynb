{
 "cells": [
  {
   "cell_type": "code",
   "execution_count": 13,
   "metadata": {},
   "outputs": [],
   "source": [
    "def nta(n, bits=32):\n",
    "    bin_n = bin(n)[2:]\n",
    "    r = []\n",
    "    while bin_n:\n",
    "        r.append(hex(int(\"0b\" + bin_n[-bits:], 2)))\n",
    "        bin_n = bin_n[:-bits]\n",
    "    return r\n"
   ]
  },
  {
   "cell_type": "code",
   "execution_count": 15,
   "metadata": {},
   "outputs": [
    {
     "name": "stdout",
     "output_type": "stream",
     "text": [
      "0xaafffbab,\n",
      "0x82172918,\n",
      "0xabcd187,\n"
     ]
    }
   ],
   "source": [
    "\n",
    "for c in nta(0xabcd18782172918aafffbab):\n",
    "    print(f'{c}', end=\",\\n\")\n"
   ]
  }
 ],
 "metadata": {
  "kernelspec": {
   "display_name": "Python 3",
   "language": "python",
   "name": "python3"
  },
  "language_info": {
   "codemirror_mode": {
    "name": "ipython",
    "version": 3
   },
   "file_extension": ".py",
   "mimetype": "text/x-python",
   "name": "python",
   "nbconvert_exporter": "python",
   "pygments_lexer": "ipython3",
   "version": "3.10.4"
  },
  "orig_nbformat": 4,
  "vscode": {
   "interpreter": {
    "hash": "5ecc031d86696929f30629648f7816eb3c79c248c1db74fa715074cbd38220b8"
   }
  }
 },
 "nbformat": 4,
 "nbformat_minor": 2
}
